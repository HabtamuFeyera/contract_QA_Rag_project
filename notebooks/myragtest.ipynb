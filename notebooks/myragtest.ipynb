{
 "cells": [
  {
   "cell_type": "code",
   "execution_count": null,
   "metadata": {},
   "outputs": [],
   "source": [
    "import pytest\n",
    "from my_rag_system import RAGSystem\n",
    "\n",
    "@pytest.fixture\n",
    "def rag_system():\n",
    "    return RAGSystem()\n",
    "\n",
    "def test_query_response(rag_system):\n",
    "    query = \"What is the contract about?\"\n",
    "    expected_response = \"The contract is about...\"\n",
    "    response = rag_system.query(query)\n",
    "    assert response == expected_response\n",
    "\n",
    "def test_performance(rag_system):\n",
    "    # Measure response time for a sample query\n",
    "    query = \"What is the contract about?\"\n",
    "    start_time = time.time()\n",
    "    response = rag_system.query(query)\n",
    "    end_time = time.time()\n",
    "    response_time = end_time - start_time\n",
    "    assert response_time < 1.0  # Response time should be less than 1 second\n"
   ]
  }
 ],
 "metadata": {
  "language_info": {
   "name": "python"
  }
 },
 "nbformat": 4,
 "nbformat_minor": 2
}
