{
 "cells": [
  {
   "cell_type": "code",
   "execution_count": 1,
   "metadata": {},
   "outputs": [],
   "source": [
    "import getpass\n",
    "import os\n",
    "\n",
    "os.environ[\"OPENAI_API_KEY\"] = getpass.getpass()"
   ]
  },
  {
   "cell_type": "code",
   "execution_count": 2,
   "metadata": {},
   "outputs": [
    {
     "name": "stderr",
     "output_type": "stream",
     "text": [
      "/home/habte/anaconda3/lib/python3.11/site-packages/langchain_core/_api/deprecation.py:117: LangChainDeprecationWarning: The class `langchain_community.embeddings.openai.OpenAIEmbeddings` was deprecated in langchain-community 0.1.0 and will be removed in 0.2.0. An updated version of the class exists in the langchain-openai package and should be used instead. To use it run `pip install -U langchain-openai` and import as `from langchain_openai import OpenAIEmbeddings`.\n",
      "  warn_deprecated(\n",
      "/home/habte/anaconda3/lib/python3.11/site-packages/langchain_core/_api/deprecation.py:117: LangChainDeprecationWarning: The class `langchain_community.chat_models.openai.ChatOpenAI` was deprecated in langchain-community 0.0.10 and will be removed in 0.2.0. An updated version of the class exists in the langchain-openai package and should be used instead. To use it run `pip install -U langchain-openai` and import as `from langchain_openai import ChatOpenAI`.\n",
      "  warn_deprecated(\n"
     ]
    }
   ],
   "source": [
    "# Import necessary libraries\n",
    "import os\n",
    "from langchain.document_loaders import PyPDFLoader\n",
    "from langchain.text_splitter import TokenTextSplitter\n",
    "from langchain.memory import ConversationBufferMemory\n",
    "from langchain.embeddings.openai import OpenAIEmbeddings\n",
    "from langchain.vectorstores import Chroma\n",
    "from langchain.llms import OpenAI\n",
    "from langchain.chains import ConversationalRetrievalChain\n",
    "from langchain_community.chat_models import ChatOpenAI\n",
    "\n",
    "\n",
    "#File paths for the PDF documents\n",
    "pdf_paths = [\n",
    "    \"/home/habte/Downloads/Raptor Contract.docx.pdf\",\n",
    "    \"/home/habte/Downloads/Raptor Q&A2.docx.pdf\",\n",
    "    \"/home/habte/Downloads/Robinson Advisory.docx.pdf\",\n",
    "    \"/home/habte/Downloads/Robinson Q&A.docx.pdf\"\n",
    "    ]\n",
    "\n",
    "# Load PDF and split into tokens for all documents\n",
    "pdf_data = []\n",
    "for path in pdf_paths:\n",
    "    loader = PyPDFLoader(path)\n",
    "    pdf_data.extend(loader.load())\n",
    "\n",
    "text_splitter = TokenTextSplitter(chunk_size=1000, chunk_overlap=0)\n",
    "split_data = text_splitter.split_documents(pdf_data)\n",
    "\n",
    "# Set up ChromaDB with vector embeddings\n",
    "collection_name = \"contracts_collection\"\n",
    "local_directory = \"contracts_vect_embedding\"\n",
    "persist_directory = os.path.join(os.getcwd(), local_directory)\n",
    "\n",
    "openai_key = os.environ.get('OPENAI_API_KEY')  \n",
    "embeddings = OpenAIEmbeddings(openai_api_key=openai_key)\n",
    "vect_db = Chroma.from_documents(\n",
    "    split_data,\n",
    "    embeddings,\n",
    "    collection_name=collection_name,\n",
    "    persist_directory=persist_directory\n",
    ")\n",
    "vect_db.persist()\n",
    "\n",
    "# Initialize the OpenAI language model\n",
    "chat_model = ChatOpenAI(openai_api_key=openai_key, model_name=\"gpt-3.5-turbo\")\n",
    "memory = ConversationBufferMemory(memory_key=\"chat_history\", return_messages=True)\n",
    "chat_qa = ConversationalRetrievalChain.from_llm(\n",
    "    chat_model,\n",
    "    vect_db.as_retriever(),\n",
    "    memory=memory\n",
    ")"
   ]
  },
  {
   "cell_type": "code",
   "execution_count": 3,
   "metadata": {},
   "outputs": [],
   "source": [
    "# Example manual evaluation and debugging\n",
    "user_questions = [\n",
    "    \"What are the terms of payment in the contract?\",\n",
    "    \"Can you provide information about the termination clause?\",\n",
    "    \"Is there any clause regarding intellectual property rights?\"\n",
    "]"
   ]
  },
  {
   "cell_type": "code",
   "execution_count": 4,
   "metadata": {},
   "outputs": [
    {
     "name": "stderr",
     "output_type": "stream",
     "text": [
      "/home/habte/anaconda3/lib/python3.11/site-packages/langchain_core/_api/deprecation.py:117: LangChainDeprecationWarning: The function `__call__` was deprecated in LangChain 0.1.0 and will be removed in 0.2.0. Use invoke instead.\n",
      "  warn_deprecated(\n"
     ]
    },
    {
     "name": "stdout",
     "output_type": "stream",
     "text": [
      "User: What are the terms of payment in the contract?\n",
      "RAG System Response: The terms of payment in the contract include:\n",
      "1. Fees of $9 per hour up to a monthly limit of $1,500.\n",
      "2. Workspace expense of $100 per month.\n",
      "3. Other reasonable and actual expenses if approved by the company in writing and in advance.\n",
      "Debugging Information:\n",
      "User: Can you provide information about the termination clause?\n",
      "RAG System Response: The termination notice period in the contract is 14 days for convenience by both parties. The Company may terminate without notice if the Advisor refuses or cannot perform the Services or is in breach of any provision of the Agreement.\n",
      "Debugging Information:\n",
      "User: Is there any clause regarding intellectual property rights?\n",
      "RAG System Response: Yes, there are several clauses regarding intellectual property rights in the contract. These clauses include information about the infringement of Company IP, IP Contracts, Title to Company Intellectual Property, Sufficiency of rights to use Technology and Intellectual Property, and Infringement of Third-Party IP.\n",
      "Debugging Information:\n"
     ]
    }
   ],
   "source": [
    "for question in user_questions:\n",
    "    response = chat_qa({\"question\": question, \"chat_history\": []})\n",
    "    print(\"User:\", question)\n",
    "    print(\"RAG System Response:\", response[\"answer\"])\n",
    "    print(\"Debugging Information:\")\n",
    "    "
   ]
  },
  {
   "cell_type": "code",
   "execution_count": 5,
   "metadata": {},
   "outputs": [
    {
     "name": "stdout",
     "output_type": "stream",
     "text": [
      "User: What are the terms of payment in the contract?\n",
      "RAG System Response: The clauses regarding intellectual property rights in the contract are detailed in sections (e), (f), (b), (c), and (d). These sections cover topics such as infringement of company intellectual property, title to company intellectual property, sufficiency of intellectual property rights, and infringement of third party intellectual property.\n",
      "Debugging Information:\n",
      "User: Can you provide information about the termination clause?\n",
      "RAG System Response: The termination notice period in the contract is 14 days for convenience by both parties. The Company may terminate without notice if the Advisor refuses or cannot perform the Services or is in breach of any provision of the Agreement.\n",
      "Debugging Information:\n",
      "User: Is there any clause regarding intellectual property rights?\n",
      "RAG System Response: Yes, there are clauses in the contract regarding intellectual property rights. The contract discusses various aspects of intellectual property, including ownership, licenses, confidentiality, invention assignments, and infringement of third-party IP.\n",
      "Debugging Information:\n"
     ]
    }
   ],
   "source": [
    "user_questions = [\n",
    "    \"What are the terms of payment in the contract?\",\n",
    "    \"Can you provide information about the termination clause?\",\n",
    "    \"Is there any clause regarding intellectual property rights?\"\n",
    "]\n",
    "\n",
    "for question in user_questions:\n",
    "    response = chat_qa({\"question\": question, \"chat_history\": []})\n",
    "    print(\"User:\", question)\n",
    "    print(\"RAG System Response:\", response[\"answer\"])\n",
    "    print(\"Debugging Information:\")\n",
    "   \n"
   ]
  },
  {
   "cell_type": "code",
   "execution_count": 6,
   "metadata": {},
   "outputs": [
    {
     "name": "stdout",
     "output_type": "stream",
     "text": [
      "User: What are the terms of payment in the contract?\n",
      "RAG System Response: The clauses regarding intellectual property rights in the contract include:\n",
      "- Infringement of Company IP (Section e)\n",
      "- IP Contracts (Section f)\n",
      "- Title to Company Intellectual Property (Section b)\n",
      "- Sufficiency (Section c)\n",
      "- Infringement of Third-Party IP (Section d)\n",
      "\n",
      "These clauses cover aspects such as ownership, infringement, licensing, contractual obligations, and the rights and obligations related to intellectual property within the context of the contract.\n",
      "Separate LLM Response: content='The terms of payment in the contract are as follows:\\n\\n- Payment shall be made in full within 30 days of the invoice date.\\n- Payment can be made via bank transfer or cheque.\\n- Late payment will incur a 10% penalty fee.\\n- Any disputes regarding payment must be resolved within 14 days of notification.\\n- The currency of payment shall be in US dollars.'\n",
      "User: Can you provide information about the termination clause?\n",
      "RAG System Response: The termination notice period in the contract is 14 days for convenience by both parties. The Company can terminate without notice if the Advisor refuses or cannot perform the Services or is in breach of any provision of the Agreement.\n",
      "Separate LLM Response: content='A termination clause is a provision in a contract that outlines the conditions under which the parties involved can end the agreement before its expiration date. This clause typically includes details such as the notice period required for termination, any penalties or fees that may apply, and the circumstances under which either party can terminate the contract.\\n\\nTermination clauses are important for providing clarity and protection for all parties involved in a contract. They help to define the rights and responsibilities of each party in the event that the agreement needs to be terminated early. It is important to carefully review and negotiate the terms of the termination clause to ensure that it is fair and reasonable for all parties involved.'\n",
      "User: Is there any clause regarding intellectual property rights?\n",
      "RAG System Response: The contract covers several aspects of intellectual property, including ownership rights to company intellectual property, infringement of company IP, IP contracts related to technology and intellectual property, title to company intellectual property, and infringement of third-party IP.\n",
      "Separate LLM Response: content='Yes, many legal documents and contracts include clauses regarding intellectual property rights. These clauses typically outline how intellectual property created or used during the course of a business relationship will be owned, licensed, and protected. This can include copyrights, trademarks, patents, trade secrets, and other forms of intellectual property. It is important for all parties involved to clearly understand and agree upon these rights to avoid any disputes or legal issues in the future.'\n"
     ]
    }
   ],
   "source": [
    "# Initialize a separate language model for LLM-assisted evaluation\n",
    "from langchain_community.chat_models import ChatOpenAI\n",
    "\n",
    "separate_llm = ChatOpenAI(openai_api_key=openai_key, model_name=\"gpt-3.5-turbo\")\n",
    "\n",
    "for question in user_questions:\n",
    "    # Generate response using the RAG system\n",
    "    rag_response = chat_qa({\"question\": question, \"chat_history\": []})\n",
    "\n",
    "    # Generate response using the separate language model\n",
    "    separate_llm_response = separate_llm.invoke(question)  # Using the 'invoke' method to generate response\n",
    "\n",
    "    # Print the user's question and both responses for comparison\n",
    "    print(\"User:\", question)\n",
    "    print(\"RAG System Response:\", rag_response[\"answer\"])\n",
    "    print(\"Separate LLM Response:\", separate_llm_response)\n",
    "    # Compare the responses and identify discrepancies\n"
   ]
  }
 ],
 "metadata": {
  "kernelspec": {
   "display_name": "base",
   "language": "python",
   "name": "python3"
  },
  "language_info": {
   "codemirror_mode": {
    "name": "ipython",
    "version": 3
   },
   "file_extension": ".py",
   "mimetype": "text/x-python",
   "name": "python",
   "nbconvert_exporter": "python",
   "pygments_lexer": "ipython3",
   "version": "3.11.5"
  }
 },
 "nbformat": 4,
 "nbformat_minor": 2
}
