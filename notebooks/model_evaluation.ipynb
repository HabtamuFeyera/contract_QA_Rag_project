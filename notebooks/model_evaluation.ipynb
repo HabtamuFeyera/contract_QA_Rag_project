{
 "cells": [
  {
   "cell_type": "code",
   "execution_count": 1,
   "metadata": {},
   "outputs": [],
   "source": [
    "import getpass\n",
    "import os\n",
    "\n",
    "os.environ[\"OPENAI_API_KEY\"] = getpass.getpass()"
   ]
  },
  {
   "cell_type": "code",
   "execution_count": 2,
   "metadata": {},
   "outputs": [],
   "source": [
    "import os\n",
    "os.chdir('/home/habte/contract_QA_Rag_project')  \n",
    "from src.pdf_loader import PDFLoader\n",
    "from src.vector_embedding import VectorEmbedding\n",
    "from src.chat_model import ChatModel"
   ]
  },
  {
   "cell_type": "code",
   "execution_count": 3,
   "metadata": {},
   "outputs": [
    {
     "name": "stderr",
     "output_type": "stream",
     "text": [
      "/home/habte/anaconda3/lib/python3.11/site-packages/langchain_core/_api/deprecation.py:117: LangChainDeprecationWarning: The class `langchain_community.embeddings.openai.OpenAIEmbeddings` was deprecated in langchain-community 0.1.0 and will be removed in 0.2.0. An updated version of the class exists in the langchain-openai package and should be used instead. To use it run `pip install -U langchain-openai` and import as `from langchain_openai import OpenAIEmbeddings`.\n",
      "  warn_deprecated(\n",
      "/home/habte/anaconda3/lib/python3.11/site-packages/langchain_core/_api/deprecation.py:117: LangChainDeprecationWarning: The class `langchain_community.chat_models.openai.ChatOpenAI` was deprecated in langchain-community 0.0.10 and will be removed in 0.2.0. An updated version of the class exists in the langchain-openai package and should be used instead. To use it run `pip install -U langchain-openai` and import as `from langchain_openai import ChatOpenAI`.\n",
      "  warn_deprecated(\n"
     ]
    }
   ],
   "source": [
    "if __name__ == \"__main__\":\n",
    "    # Define paths to PDF documents\n",
    "    pdf_paths = [\n",
    "        \"/home/habte/Downloads/Raptor Contract.docx.pdf\",\n",
    "        \"/home/habte/Downloads/Raptor Q&A2.docx.pdf\",\n",
    "        \"/home/habte/Downloads/Robinson Advisory.docx.pdf\",\n",
    "        \"/home/habte/Downloads/Robinson Q&A.docx.pdf\"\n",
    "    ]\n",
    "\n",
    "    openai_api_key = os.environ.get('OPENAI_API_KEY')\n",
    "\n",
    "    # Initialize PDF loader\n",
    "    pdf_loader = PDFLoader(pdf_paths)\n",
    "    split_data = pdf_loader.load_and_split_documents()\n",
    "\n",
    "    # Initialize vector embedding\n",
    "    vector_embedding = VectorEmbedding(openai_api_key)\n",
    "    vect_db = vector_embedding.create_vector_store(split_data)\n",
    "\n",
    "    # Initialize chat model\n",
    "    chat_model = ChatModel(openai_api_key)\n",
    "    chat_qa = chat_model.create_chat_qa(vect_db)\n"
   ]
  },
  {
   "cell_type": "code",
   "execution_count": null,
   "metadata": {},
   "outputs": [],
   "source": [
    "chat_history = []\n",
    "\n",
    "while True:\n",
    "    query = input('You: ')  # Prompt the user to input a question\n",
    "\n",
    "    if query.lower() == 'done':  \n",
    "        break\n",
    "\n",
    "    response = chat_qa({\"question\": query, \"chat_history\": chat_history})  # Retrieve response\n",
    "\n",
    "    chat_history.append({\"role\": \"user\", \"content\": query})  # Update chat history\n",
    "    chat_history.append({\"role\": \"assistant\", \"content\": response[\"answer\"]})\n",
    "\n",
    "    print('Assistant:', response[\"answer\"])  # Print the assistant's response"
   ]
  },
  {
   "cell_type": "code",
   "execution_count": 42,
   "metadata": {},
   "outputs": [],
   "source": [
    "# manual evaluation and debugging\n",
    "user_questions = [\n",
    "    \"Who are the parties to the Agreement and what are their defined names?\",\n",
    "    \"What are the payments to the Advisor under the Agreement?\",\n",
    "    \"Is there a non-compete obligation to the Advisor?\"\n",
    "]"
   ]
  },
  {
   "cell_type": "code",
   "execution_count": 43,
   "metadata": {},
   "outputs": [
    {
     "name": "stdout",
     "output_type": "stream",
     "text": [
      "User: Who are the parties to the Agreement and what are their defined names?\n",
      "RAG System Response: The parties to the Agreement are not explicitly mentioned in the provided context, so it is unclear who they are and what their defined names are.\n",
      "Debugging Information:\n",
      "User: What are the payments to the Advisor under the Agreement?\n",
      "RAG System Response: According to section 6 of the Agreement, the payments to the Advisor are as follows:\n",
      "1. Fees of $9 per hour up to a monthly limit of $1,500.\n",
      "2. Workspace expense of $100 per month.\n",
      "3. Other reasonable and actual expenses if approved by the company in writing and in advance.\n",
      "Debugging Information:\n",
      "User: Is there a non-compete obligation to the Advisor?\n",
      "RAG System Response: Yes, there is a non-compete obligation for the Advisor mentioned in the agreement. The Advisor is required to execute a Confidentiality, Non-Competition, and IP Ownership Undertaking as part of their obligations under the Agreement.\n",
      "Debugging Information:\n"
     ]
    }
   ],
   "source": [
    "for question in user_questions:\n",
    "    response = chat_qa({\"question\": question, \"chat_history\": []})\n",
    "    print(\"User:\", question)\n",
    "    print(\"RAG System Response:\", response[\"answer\"])\n",
    "    print(\"Debugging Information:\")\n",
    "    "
   ]
  },
  {
   "cell_type": "code",
   "execution_count": 41,
   "metadata": {},
   "outputs": [
    {
     "name": "stdout",
     "output_type": "stream",
     "text": [
      "User: How much is the escrow amount?\n",
      "RAG System Response: The escrow amount is equal to $1,000,000.\n",
      "Debugging Information:\n",
      "User: What is the purpose of the escrow?\n",
      "RAG System Response: The purpose of an escrow account is to hold funds, assets, or documents on behalf of two parties involved in a transaction until specified conditions are met. In this context, the escrow is used for holding funds related to the purchase price adjustment provisions and terms of the agreement until disbursements are made based on the agreement's requirements.\n",
      "Debugging Information:\n",
      "User: Whose consent is required for the assignment of the Agreement by the Buyer?\n",
      "RAG System Response: The consent required for the assignment of the Agreement by the Buyer is not explicitly mentioned in the provided context.\n",
      "Debugging Information:\n"
     ]
    }
   ],
   "source": [
    "user_questions = [\n",
    "    \"How much is the escrow amount?\",\n",
    "    \"What is the purpose of the escrow?\",\n",
    "    \"Whose consent is required for the assignment of the Agreement by the Buyer?\"\n",
    "]\n",
    "\n",
    "for question in user_questions:\n",
    "    response = chat_qa({\"question\": question, \"chat_history\": []})\n",
    "    print(\"User:\", question)\n",
    "    print(\"RAG System Response:\", response[\"answer\"])\n",
    "    print(\"Debugging Information:\")"
   ]
  },
  {
   "cell_type": "code",
   "execution_count": 44,
   "metadata": {},
   "outputs": [
    {
     "name": "stdout",
     "output_type": "stream",
     "text": [
      "User: Who are the parties to the Agreement and what are their defined names?\n",
      "RAG System Response: The parties to the Agreement are not explicitly stated in the provided context, therefore, I do not know their defined names.\n",
      "Separate LLM Response: content='The parties to the Agreement are typically referred to as Party A and Party B. Their defined names can vary depending on the specific agreement and the entities involved. Party A is usually the party that initiates the agreement or makes an offer, while Party B is the party who accepts the offer or enters into the agreement with Party A. The defined names of the parties could be the names of individuals, companies, organizations, or other entities involved in the agreement.'\n",
      "Discrepancy found!\n",
      "User: What are the payments to the Advisor under the Agreement?\n",
      "RAG System Response: According to section 6 of the Agreement, the payments to the Advisor include:\n",
      "1. Fees of $9 per hour up to a monthly limit of $1,500,\n",
      "2. Workspace expense of $100 per month,\n",
      "3. Other reasonable and actual expenses if approved by the company in writing and in advance.\n",
      "Separate LLM Response: content='The payments to the Advisor under the Agreement typically include a fee for their services, which may be a flat rate, hourly rate, or a percentage of assets under management. The specific payment terms will be outlined in the Agreement between the Advisor and the client.'\n",
      "Discrepancy found!\n",
      "User: Is there a non-compete obligation to the Advisor?\n",
      "RAG System Response: The Advisor must indemnify the Company for any losses or expenses incurred if an employer/employee relationship is determined to exist.\n",
      "Separate LLM Response: content='It depends on the specific terms of the agreement between the Advisor and the company. Some Advisor agreements may include a non-compete clause that restricts the Advisor from working with or for competitors of the company for a certain period of time after the agreement ends. However, not all Advisor agreements contain non-compete obligations, so it is important to carefully review the contract to determine if such a clause is present.'\n",
      "Discrepancy found!\n"
     ]
    }
   ],
   "source": [
    "from langchain_community.chat_models import ChatOpenAI\n",
    "\n",
    "\n",
    "openai_key = \"xxxxxxxxxxxxxxxxxxxxxxxx\"\n",
    "\n",
    "# Initialize the separate language model\n",
    "separate_llm = ChatOpenAI(openai_api_key=openai_key, model_name=\"gpt-3.5-turbo\")\n",
    "\n",
    "# Now you can proceed with the rest of your code\n",
    "for question in user_questions:\n",
    "    # Generate response using the RAG system\n",
    "    rag_response = chat_qa({\"question\": question, \"chat_history\": []})\n",
    "\n",
    "    # Generate response using the separate language model\n",
    "    separate_llm_response = separate_llm.invoke(question)\n",
    "\n",
    "    # Print the user's question and both responses for comparison\n",
    "    print(\"User:\", question)\n",
    "    print(\"RAG System Response:\", rag_response[\"answer\"])\n",
    "    print(\"Separate LLM Response:\", separate_llm_response)\n",
    "\n",
    "    # Compare the responses and identify discrepancies\n",
    "    if rag_response[\"answer\"] != separate_llm_response:\n",
    "        print(\"Discrepancy found!\")\n"
   ]
  },
  {
   "cell_type": "code",
   "execution_count": 38,
   "metadata": {},
   "outputs": [
    {
     "name": "stdout",
     "output_type": "stream",
     "text": [
      "User: Who are the parties to the Agreement and what are their defined names?\n",
      "RAG System Response: The parties to the Agreement are Cloud Investments Ltd. (\"Company\") and Jack Robinson (\"Advisor\").\n",
      "Separate LLM Response: The parties to the Agreement are [Party 1] and [Party 2], with their defined names as follows:\n",
      "\n",
      "- [Party 1]: [Legal Name of Party 1]\n",
      "- [Party 2]: [Legal Name of Party 2]\n",
      "Discrepancy found!\n",
      "User: What are the payments to the Advisor under the Agreement?\n",
      "RAG System Response: According to section 6 of the Agreement, the payments to the Advisor are as follows:\n",
      "1. Fees of $9 per hour up to a monthly limit of $1,500.\n",
      "2. Workspace expense of $100 per month.\n",
      "3. Other reasonable and actual expenses if approved by the company in writing and in advance.\n",
      "Separate LLM Response: The payments to the Advisor under the Agreement will typically include a base fee or retainer, as well as additional fees for specific services or transactions. The exact payment structure will vary depending on the terms of the Agreement and the services being provided by the Advisor.\n",
      "Discrepancy found!\n",
      "User: Is there a non-compete obligation to the Advisor?\n",
      "RAG System Response: The provided context does not mention a non-compete obligation for the Advisor under the Agreement. It focuses on the indemnification requirement in case of an employer/employee relationship.\n",
      "Separate LLM Response: It depends on the specific terms of the agreement between the Advisor and the company. Some companies may include a non-compete obligation in their agreements with Advisors to prevent them from working for competitors or starting their own competing business for a certain period of time after the end of the advisory relationship. It is important for both parties to clearly outline any non-compete obligations in their agreement to avoid any potential conflicts in the future.\n",
      "Discrepancy found!\n",
      "Average BLEU score: 0.31290410231788873\n"
     ]
    }
   ],
   "source": [
    "from langchain_community.chat_models import ChatOpenAI\n",
    "from nltk.translate.bleu_score import sentence_bleu\n",
    "\n",
    "openai_key = \"xxxxxxxxxxxxxxxxxxxxxxxx\"\n",
    "\n",
    "# Initialize the separate language model\n",
    "separate_llm = ChatOpenAI(openai_api_key=openai_key, model_name=\"gpt-3.5-turbo\")\n",
    "\n",
    "# Lists to store responses and BLEU scores\n",
    "rag_responses = []\n",
    "separate_llm_responses = []\n",
    "bleu_scores = []\n",
    "\n",
    "\n",
    "for question in user_questions:\n",
    "    # Generate response using the RAG system\n",
    "    rag_response = chat_qa({\"question\": question, \"chat_history\": []})[\"answer\"]\n",
    "    rag_responses.append(rag_response)\n",
    "\n",
    "    # Generate response using the separate language model\n",
    "    separate_llm_response = separate_llm.invoke(question)\n",
    "    separate_llm_responses.append(separate_llm_response.content)  # Extracting text from the AIMessage object\n",
    "\n",
    "    # Compute BLEU score for the response pair\n",
    "    bleu_score = sentence_bleu([rag_response], separate_llm_response.content)\n",
    "    bleu_scores.append(bleu_score)\n",
    "\n",
    "    # Print the user's question and both responses for comparison\n",
    "    print(\"User:\", question)\n",
    "    print(\"RAG System Response:\", rag_response)\n",
    "    print(\"Separate LLM Response:\", separate_llm_response.content)\n",
    "\n",
    "    # Compare the responses and identify discrepancies\n",
    "    if rag_response != separate_llm_response.content:\n",
    "        print(\"Discrepancy found!\")\n",
    "\n",
    "# Calculate average BLEU score\n",
    "avg_bleu_score = sum(bleu_scores) / len(bleu_scores)\n",
    "print(\"Average BLEU score:\", avg_bleu_score)\n"
   ]
  },
  {
   "cell_type": "code",
   "execution_count": 26,
   "metadata": {},
   "outputs": [
    {
     "name": "stdout",
     "output_type": "stream",
     "text": [
      "User: How much is the escrow amount?\n",
      "RAG System Response: The purpose of the escrow in this context is to hold funds that may be subject to adjustments in the purchase price as outlined in the agreement. The escrow acts as a neutral party that can make disbursements based on the agreed terms of the agreement, especially in cases where there are disputes between the parties involved. Additionally, it serves as a mechanism for resolving any potential issues related to adjustments in the purchase price.\n",
      "Separate LLM Response: The escrow amount can vary depending on the transaction or agreement in question. It is typically a percentage of the total sale price or a set amount agreed upon by both parties. It is held in a neutral account by a third party until the conditions of the agreement are met.\n",
      "Discrepancy found!\n",
      "User: What is the purpose of the escrow?\n",
      "RAG System Response: The purpose of the escrow in this context is to hold funds in accordance with the purchase price adjustment provisions of the agreement. The escrow account ensures that disbursements are made as required by the terms of the agreement, especially in cases where there are disputes that need resolution before funds are released. Additionally, it serves as a method to provide security and a remedy for the buyer against the company securityholders in case of any claims relating to adjustments.\n",
      "Separate LLM Response: The purpose of an escrow is to hold funds or assets in a neutral account until certain conditions of a contract or agreement are met. This helps protect both parties involved in a transaction, as it ensures that the funds or assets are held securely and only released once all parties have fulfilled their obligations. It is commonly used in real estate transactions, mergers and acquisitions, and other complex financial transactions to provide a level of security and assurance to all parties involved.\n",
      "Discrepancy found!\n",
      "User: Whose consent is required for the assignment of the Agreement by the Buyer?\n",
      "RAG System Response: The consent required for the assignment of the Agreement by the Buyer would depend on the terms specified in the Agreement itself. Typically, the consent of the other party involved in the Agreement, in this case, the Sellers, would be required for the assignment to take place.\n",
      "Separate LLM Response: The consent of the seller or party with whom the Buyer originally entered into the Agreement is usually required for the assignment of the Agreement by the Buyer. This is to ensure that the seller is aware of and agrees to the transfer of rights and obligations under the Agreement to a new party.\n",
      "Discrepancy found!\n",
      "Average BLEU score: 0.4672698139530695\n"
     ]
    }
   ],
   "source": [
    "from langchain_community.chat_models import ChatOpenAI\n",
    "from nltk.translate.bleu_score import sentence_bleu\n",
    "\n",
    "openai_key = \"xxxxxxxxxxxxxxxxxxxxxxxx\"\n",
    "\n",
    "# Initialize the separate language model with temperature\n",
    "temperature = 1  # Set the temperature value\n",
    "separate_llm = ChatOpenAI(openai_api_key=openai_key, model_name=\"gpt-3.5-turbo\", temperature=temperature)\n",
    "\n",
    "# Lists to store responses and BLEU scores\n",
    "rag_responses = []\n",
    "separate_llm_responses = []\n",
    "bleu_scores = []\n",
    "\n",
    "\n",
    "for question in user_questions:\n",
    "    # Generate response using the RAG system\n",
    "    rag_response = chat_qa({\"question\": question, \"chat_history\": []})[\"answer\"]\n",
    "    rag_responses.append(rag_response)\n",
    "\n",
    "    # Generate response using the separate language model with temperature\n",
    "    separate_llm_response = separate_llm.invoke(question)\n",
    "    separate_llm_responses.append(separate_llm_response.content)  # Extracting text from the AIMessage object\n",
    "\n",
    "    # Compute BLEU score for the response pair\n",
    "    bleu_score = sentence_bleu([rag_response], separate_llm_response.content)\n",
    "    bleu_scores.append(bleu_score)\n",
    "\n",
    "    # Print the user's question and both responses for comparison\n",
    "    print(\"User:\", question)\n",
    "    print(\"RAG System Response:\", rag_response)\n",
    "    print(\"Separate LLM Response:\", separate_llm_response.content)\n",
    "\n",
    "    # Compare the responses and identify discrepancies\n",
    "    if rag_response != separate_llm_response.content:\n",
    "        print(\"Discrepancy found!\")\n",
    "\n",
    "# Calculate average BLEU score\n",
    "avg_bleu_score = sum(bleu_scores) / len(bleu_scores)\n",
    "print(\"Average BLEU score:\", avg_bleu_score)\n"
   ]
  },
  {
   "cell_type": "code",
   "execution_count": null,
   "metadata": {},
   "outputs": [],
   "source": [
    "import time\n",
    "from langchain_community.chat_models import ChatOpenAI\n",
    "from langchain.memory import ConversationBufferMemory\n",
    "from langchain.chains import ConversationalRetrievalChain\n",
    "from src.chat_model import ChatModel\n",
    "from utils.evaluation_metrics import ChatModelTester\n",
    "\n",
    "openai_key = \"xxxxxxxxxxxxxxxxxxxxxxxx\"\n",
    "\n",
    "# Instantiate ChatModel\n",
    "chat_model = ChatModel(openai_api_key)\n",
    "\n",
    "# Create chat Q&A instance\n",
    "chat_qa = chat_model.create_chat_qa(vect_db)\n",
    "\n",
    "# Initialize ChatModelTester with the chat Q&A instance\n",
    "tester = ChatModelTester(chat_qa)\n",
    "\n",
    "# Define test data\n",
    "test_data = [\n",
    "    (\"Who are the parties to the Agreement and what are their defined names?\", \"Cloud Investments Ltd. (“Company”) and Jack Robinson (“Advisor”)\"),\n",
    "    (\"Is there a non-compete obligation to the Advisor?\", \"Yes. During the term of engagement with the Company and for a period of 12 months thereafter.\"),\n",
    "    (\"Whose consent is required for the assignment of the Agreement by the Buyer?\", \"The consent of both parties is required.\")\n",
    "]\n",
    "\n",
    "# Test the ChatModel using the defined test data\n",
    "tester.test_with_dataset(test_data)\n"
   ]
  },
  {
   "cell_type": "code",
   "execution_count": 20,
   "metadata": {},
   "outputs": [
    {
     "name": "stdout",
     "output_type": "stream",
     "text": [
      "Generated Answer: The parties to the Agreement are Cloud Investments Ltd. (“Company”) and Jack Robinson (“Advisor”).\n",
      "Expected Answer: Cloud Investments Ltd. (“Company”) and Jack Robinson (“Advisor”)\n",
      "Generated Answer: The escrow amount is $1,000,000.\n",
      "Expected Answer: The escrow amount is equal to $1,000,000.\n",
      "Generated Answer: No.\n",
      "Expected Answer: No.\n",
      "Total Questions: 3\n",
      "Correct Answers: 3\n",
      "Accuracy: 100.00%\n"
     ]
    }
   ],
   "source": [
    "# Import the necessary modules\n",
    "from src.chat_model import ChatModel\n",
    "from utils.human_evaluation import ChatModelTester\n",
    "\n",
    "openai_key = \"xxxxxxxxxxxxxxxxxxxxxxxx\"\n",
    "\n",
    "# Instantiate ChatModel\n",
    "chat_model = ChatModel(openai_api_key)\n",
    "\n",
    "# Create chat Q&A instance\n",
    "chat_qa = chat_model.create_chat_qa(vect_db)\n",
    "\n",
    "# Initialize ChatModelTester with the chat Q&A instance\n",
    "tester = ChatModelTester(chat_qa)\n",
    "\n",
    "# Define test data\n",
    "test_data = [\n",
    "    (\"Who are the parties to the Agreement and what are their defined names?\", \"Cloud Investments Ltd. (“Company”) and Jack Robinson (“Advisor”)\"),\n",
    "    (\"How much is the escrow amount?\", \"The escrow amount is equal to $1,000,000.\"),\n",
    "    (\"Is escrow amount grete then the Retention Amount ?\", \"No.\")\n",
    "]\n",
    "\n",
    "# Test the ChatModel using the defined test data\n",
    "tester.test_with_dataset(test_data)\n"
   ]
  },
  {
   "cell_type": "code",
   "execution_count": null,
   "metadata": {},
   "outputs": [],
   "source": [
    "# Import the necessary modules\n",
    "import tensorflow_hub as hub\n",
    "import numpy as np\n",
    "from src.chat_model import ChatModel\n",
    "from utils.semantic_similarity import ChatModelTester\n",
    "\n",
    "tester = ChatModelTester(chat_qa)\n",
    "test_data = [\n",
    "    (\"Who are the parties to the Agreement and what are their defined names?\", \"Cloud Investments Ltd. (“Company”) and Jack Robinson (“Advisor”)\"),\n",
    "    (\"Is there a non-compete obligation to the Advisor?\", \"Yes. During the term of engagement with the Company and for a period of 12 months thereafter.\"),\n",
    "    (\"Whose consent is required for the assignment of the Agreement by the Buyer?\", \"The consent of both parties is required.\")\n",
    "]\n",
    "tester.test_with_dataset(test_data)"
   ]
  },
  {
   "cell_type": "code",
   "execution_count": null,
   "metadata": {},
   "outputs": [],
   "source": []
  },
  {
   "cell_type": "code",
   "execution_count": null,
   "metadata": {},
   "outputs": [],
   "source": []
  }
 ],
 "metadata": {
  "kernelspec": {
   "display_name": "base",
   "language": "python",
   "name": "python3"
  },
  "language_info": {
   "codemirror_mode": {
    "name": "ipython",
    "version": 3
   },
   "file_extension": ".py",
   "mimetype": "text/x-python",
   "name": "python",
   "nbconvert_exporter": "python",
   "pygments_lexer": "ipython3",
   "version": "3.11.5"
  }
 },
 "nbformat": 4,
 "nbformat_minor": 2
}
