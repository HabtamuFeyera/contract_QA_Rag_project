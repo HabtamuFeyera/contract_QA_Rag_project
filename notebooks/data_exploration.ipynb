{
 "cells": [
  {
   "cell_type": "code",
   "execution_count": null,
   "metadata": {},
   "outputs": [],
   "source": [
    "from PyPDFLoader import PyPDFLoader"
   ]
  },
  {
   "cell_type": "code",
   "execution_count": null,
   "metadata": {},
   "outputs": [],
   "source": [
    "pdf_loader_1 = PyPDFLoader(\"/home/habte/Downloads/Raptor Contract.docx.pdf\")\n",
    "pdf_loader_2 = PyPDFLoader(\"/home/habte/Downloads/Raptor Q&A2.docx.pdf\")\n",
    "pdf_loader_3 = PyPDFLoader(\"/home/habte/Downloads/Robinson Advisory.docx.pdf\")\n",
    "pdf_loader_4 = PyPDFLoader(\"/home/habte/Downloads/Robinson Q&A.docx.pdf\")"
   ]
  },
  {
   "cell_type": "code",
   "execution_count": null,
   "metadata": {},
   "outputs": [],
   "source": [
    "text_1 = pdf_loader_1.load_text()\n",
    "text_2 = pdf_loader_2.load_text()\n",
    "text_3 = pdf_loader_3.load_text()\n",
    "text_4 = pdf_loader_4.load_text()"
   ]
  },
  {
   "cell_type": "code",
   "execution_count": null,
   "metadata": {},
   "outputs": [],
   "source": [
    "# Print the first few lines of each text\n",
    "print(\"Text from PDF 1:\")\n",
    "print(text_1[:200])  # Print the first 200 characters\n",
    "print(\"\\nText from PDF 2:\")\n",
    "print(text_2[:200])\n",
    "print(\"\\nText from PDF 3:\")\n",
    "print(text_3[:200])\n",
    "print(\"\\nText from PDF 4:\")\n",
    "print(text_4[:200])\n"
   ]
  },
  {
   "cell_type": "code",
   "execution_count": null,
   "metadata": {},
   "outputs": [],
   "source": []
  },
  {
   "cell_type": "code",
   "execution_count": null,
   "metadata": {},
   "outputs": [],
   "source": []
  },
  {
   "cell_type": "code",
   "execution_count": null,
   "metadata": {},
   "outputs": [],
   "source": []
  },
  {
   "cell_type": "code",
   "execution_count": null,
   "metadata": {},
   "outputs": [],
   "source": []
  },
  {
   "cell_type": "code",
   "execution_count": null,
   "metadata": {},
   "outputs": [],
   "source": []
  },
  {
   "cell_type": "code",
   "execution_count": null,
   "metadata": {},
   "outputs": [],
   "source": []
  },
  {
   "cell_type": "code",
   "execution_count": null,
   "metadata": {},
   "outputs": [],
   "source": []
  }
 ],
 "metadata": {
  "language_info": {
   "name": "python"
  }
 },
 "nbformat": 4,
 "nbformat_minor": 2
}
