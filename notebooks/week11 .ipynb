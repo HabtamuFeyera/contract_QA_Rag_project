{
 "cells": [
  {
   "cell_type": "code",
   "execution_count": null,
   "id": "5070a1fd",
   "metadata": {
    "id": "5070a1fd"
   },
   "outputs": [],
   "source": [
    "!pip install --upgrade --quiet  langchain langchain-openai"
   ]
  },
  {
   "cell_type": "code",
   "execution_count": 3,
   "id": "7469164b",
   "metadata": {
    "colab": {
     "base_uri": "https://localhost:8080/"
    },
    "id": "7469164b",
    "outputId": "cfc0c17f-281a-475e-c06d-62f14505ebe3"
   },
   "outputs": [
    {
     "name": "stdout",
     "output_type": "stream",
     "text": [
      "··········\n"
     ]
    }
   ],
   "source": [
    "import getpass\n",
    "import os\n",
    "\n",
    "os.environ[\"OPENAI_API_KEY\"] = getpass.getpass()"
   ]
  },
  {
   "cell_type": "code",
   "execution_count": 27,
   "id": "hpFN-gRRePg-",
   "metadata": {
    "colab": {
     "base_uri": "https://localhost:8080/"
    },
    "id": "hpFN-gRRePg-",
    "outputId": "ad382243-bc37-42a8-9935-197eaa595068"
   },
   "outputs": [
    {
     "name": "stdout",
     "output_type": "stream",
     "text": [
      "Mounted at /content/drive\n"
     ]
    }
   ],
   "source": [
    "from google.colab import drive\n",
    "drive.mount('/content/drive')"
   ]
  },
  {
   "cell_type": "code",
   "execution_count": null,
   "id": "nGvhn5qurCNV",
   "metadata": {
    "colab": {
     "base_uri": "https://localhost:8080/",
     "height": 373
    },
    "id": "nGvhn5qurCNV",
    "outputId": "5d5500e8-05f6-4ea3-f53e-e99952b397e9"
   },
   "outputs": [],
   "source": [
    "import os\n",
    "from langchain.document_loaders import PyPDFLoader\n",
    "from langchain.text_splitter import TokenTextSplitter\n",
    "from langchain.memory import ConversationBufferMemory\n",
    "from langchain.embeddings.openai import OpenAIEmbeddings\n",
    "from langchain.vectorstores import Chroma\n",
    "from langchain.llms import OpenAI\n",
    "from langchain.chains import ConversationalRetrievalChain\n",
    "from langchain_community.chat_models import ChatOpenAI\n",
    "\n",
    "# Load PDF and split into tokens\n",
    "loaders = [\n",
    "    PyPDFLoader(\"//content/drive/MyDrive/Raptor Contract.docx.pdf\"),\n",
    "    PyPDFLoader(\"/content/drive/MyDrive/Raptor Q&A2.docx.pdf\"),\n",
    "    PyPDFLoader(\"/content/drive/MyDrive/Robinson Advisory.docx.pdf\"),\n",
    "    PyPDFLoader(\"/content/drive/MyDrive/Robinson Q&A.docx.pdf\")\n",
    "]\n",
    "pdf_data = loaders[0].load()  # Access the first loader\n",
    "\n",
    "text_splitter = TokenTextSplitter(chunk_size=1000, chunk_overlap=0)\n",
    "split_data = text_splitter.split_documents(pdf_data)\n",
    "\n",
    "# Set up ChromaDB with vector embeddings\n",
    "collection_name = \"contracts_collection\"\n",
    "local_directory = \"contracts_vect_embedding\"\n",
    "persist_directory = os.path.join(os.getcwd(), local_directory)\n",
    "\n",
    "openai_key = os.environ.get('xxxxxxxxxxxxxxxxxxxxx')\n",
    "embeddings = OpenAIEmbeddings(openai_api_key=openai_key)\n",
    "vect_db = Chroma.from_documents(\n",
    "    split_data,\n",
    "    embeddings,\n",
    "    collection_name=collection_name,\n",
    "    persist_directory=persist_directory\n",
    ")\n",
    "vect_db.persist()\n",
    "\n",
    "# Initialize ConversationalRetrievalChain\n",
    "memory = ConversationBufferMemory(memory_key=\"chat_history\", return_messages=True)\n",
    "chat_qa = ConversationalRetrievalChain.from_llm(\n",
    "    ChatOpenAI(openai_api_key=openai_key, model_name=\"gpt-3.5-turbo\"),\n",
    "    vect_db.as_retriever(),\n",
    "    memory=memory\n",
    ")"
   ]
  },
  {
   "cell_type": "code",
   "execution_count": 20,
   "id": "b3VdQiViTE_7",
   "metadata": {
    "id": "b3VdQiViTE_7"
   },
   "outputs": [],
   "source": [
    "# Example manual evaluation and debugging\n",
    "user_questions = [\n",
    "    \"What are the terms of payment in the contract?\",\n",
    "    \"Can you provide information about the termination clause?\",\n",
    "    \"Is there any clause regarding intellectual property rights?\"\n",
    "]"
   ]
  },
  {
   "cell_type": "code",
   "execution_count": 21,
   "id": "yWcrJL2cTVQx",
   "metadata": {
    "colab": {
     "base_uri": "https://localhost:8080/"
    },
    "id": "yWcrJL2cTVQx",
    "outputId": "cf20058a-309c-4871-dcae-bf5b208abca7"
   },
   "outputs": [
    {
     "name": "stdout",
     "output_type": "stream",
     "text": [
      "User: What are the terms of payment in the contract?\n",
      "RAG System Response: The terms of payment in the contract specify that the Buyer shall pay, through a Paying Agent, the Closing Cash Consideration to the Sellers, the Warrant Closing Cash Consideration to the Warrantholders, and the Closing Vested Options Cash Consideration to the Trustee for the benefit of the Vested. The payments are to be made in cash by wire transfer of immediately available funds at the Closing.\n",
      "Debugging Information:\n",
      "User: Can you provide information about the termination clause?\n",
      "RAG System Response: I don't have enough context to provide specific information about the termination clause in the contract. The text provided seems to focus on confidentiality and disclosure of information between Sellers and Buyers. If you have a specific section related to termination, please provide that for a more accurate response.\n",
      "Debugging Information:\n",
      "User: Is there any clause regarding intellectual property rights?\n",
      "RAG System Response: Yes, the contract includes several clauses related to intellectual property rights. The clauses mentioned are (e) Infringement of Company IP and (f) IP Contracts. These clauses discuss issues such as infringement of intellectual property and contractual obligations related to technology and intellectual property.\n",
      "Debugging Information:\n"
     ]
    }
   ],
   "source": [
    "for question in user_questions:\n",
    "    response = chat_qa({\"question\": question, \"chat_history\": []})\n",
    "    print(\"User:\", question)\n",
    "    print(\"RAG System Response:\", response[\"answer\"])\n",
    "    print(\"Debugging Information:\")"
   ]
  },
  {
   "cell_type": "code",
   "execution_count": 23,
   "id": "JopDOLuwTce-",
   "metadata": {
    "colab": {
     "base_uri": "https://localhost:8080/"
    },
    "id": "JopDOLuwTce-",
    "outputId": "8b96d0a4-1d60-447b-de65-87ca65c02edf"
   },
   "outputs": [
    {
     "name": "stdout",
     "output_type": "stream",
     "text": [
      "User: What are the terms of payment in the contract?\n",
      "RAG System Response: The terms of payment specified in the contract include the following:\n",
      "- Closing Cash Consideration to or for the account of Sellers\n",
      "- Warrant Closing Cash Consideration to or for the account of Warrantholders\n",
      "- Closing Vested Options Cash Consideration to the Trustee for the benefit of the Vested\n",
      "Debugging Information:\n",
      "User: Can you provide information about the termination clause?\n",
      "RAG System Response: I don't have specific information about the termination clause in the contract based on the context provided.\n",
      "Debugging Information:\n",
      "User: Is there any clause regarding intellectual property rights?\n",
      "RAG System Response: Yes, there are clauses related to intellectual property rights in the contract. These clauses discuss infringement of company IP, disclosure of any interference with company intellectual property, and identification of contractual obligations related to technology and intellectual property.\n",
      "Debugging Information:\n"
     ]
    }
   ],
   "source": [
    "user_questions = [\n",
    "    \"What are the terms of payment in the contract?\",\n",
    "    \"Can you provide information about the termination clause?\",\n",
    "    \"Is there any clause regarding intellectual property rights?\"\n",
    "]\n",
    "\n",
    "for question in user_questions:\n",
    "    response = chat_qa({\"question\": question, \"chat_history\": []})\n",
    "    print(\"User:\", question)\n",
    "    print(\"RAG System Response:\", response[\"answer\"])\n",
    "    print(\"Debugging Information:\")\n"
   ]
  },
  {
   "cell_type": "code",
   "execution_count": 26,
   "id": "S6Sv7VcjUREm",
   "metadata": {
    "colab": {
     "base_uri": "https://localhost:8080/"
    },
    "id": "S6Sv7VcjUREm",
    "outputId": "6691719b-b142-49f4-a1cf-a7c9364c8432"
   },
   "outputs": [
    {
     "name": "stdout",
     "output_type": "stream",
     "text": [
      "User: What are the terms of payment in the contract?\n",
      "RAG System Response: The specific payment terms outlined in the contract include the Buyer making payments at the Closing. These payments are to be made in cash by wire transfer of immediately available funds, including the Closing Cash Consideration to Sellers, the Warrant Closing Cash Consideration to Warrantholders, and the Closing Vested Options Cash Consideration to the Trustee for the benefit of the Vested.\n",
      "Separate LLM Response: content='The terms of payment in the contract are as follows:\\n\\n1. Payment must be made in full within 30 days of the invoice date.\\n2. Late payments will incur a 5% late fee.\\n3. All payments must be made in the form of a check or electronic transfer.\\n4. Any disputes regarding payments must be resolved within 10 days of notification.\\n5. Failure to make payment within the specified timeframe may result in legal action.'\n",
      "User: Can you provide information about the termination clause?\n",
      "RAG System Response: I'm sorry, but the text you provided does not contain specific information about a termination clause in the contract. It mainly discusses confidentiality obligations, tax treatment disclosure, and limitations on information sharing. If you have a specific question about the termination clause, please provide more context or details.\n",
      "Separate LLM Response: content='A termination clause is a section of a contract that outlines the conditions under which the agreement can be ended or terminated. This clause typically details the specific reasons for termination, the notice period required, and any potential consequences for terminating the contract early.\\n\\nThe termination clause may include provisions for termination for cause, which allows one party to end the contract if the other party fails to meet their obligations or breaches the terms of the agreement. It may also include provisions for termination for convenience, which allows either party to end the contract for any reason with proper notice.\\n\\nIt is important to carefully review and understand the termination clause in any contract to ensure that both parties are clear on their rights and obligations in the event that the agreement needs to be terminated. It is also recommended to seek legal advice when drafting or reviewing a termination clause to ensure that it is fair and enforceable.'\n",
      "User: Is there any clause regarding intellectual property rights?\n",
      "RAG System Response: Yes, there are clauses related to intellectual property rights in the contract. The clauses discuss infringement of company IP, disclosure of any interference with intellectual property, and identification of contractual obligations related to technology and intellectual property.\n",
      "Separate LLM Response: content='Yes, there are clauses regarding intellectual property rights in many legal documents such as contracts, agreements, and policies. These clauses typically outline the ownership, rights, and responsibilities related to the creation, use, and protection of intellectual property such as patents, trademarks, copyrights, and trade secrets. These clauses may specify who owns the intellectual property created during the course of a business relationship, how it can be used or shared, and how disputes related to intellectual property rights will be resolved. It is important to carefully review and understand these clauses to ensure that your intellectual property rights are protected.'\n"
     ]
    }
   ],
   "source": [
    "# Initialize a separate language model for LLM-assisted evaluation\n",
    "from langchain_community.chat_models import ChatOpenAI\n",
    "\n",
    "separate_llm = ChatOpenAI(openai_api_key=openai_key, model_name=\"gpt-3.5-turbo\")\n",
    "\n",
    "for question in user_questions:\n",
    "    # Generate response using the RAG system\n",
    "    rag_response = chat_qa({\"question\": question, \"chat_history\": []})\n",
    "\n",
    "    # Generate response using the separate language model\n",
    "    separate_llm_response = separate_llm.invoke(question)  # Using the 'invoke' method to generate response\n",
    "\n",
    "    # Print the user's question and both responses for comparison\n",
    "    print(\"User:\", question)\n",
    "    print(\"RAG System Response:\", rag_response[\"answer\"])\n",
    "    print(\"Separate LLM Response:\", separate_llm_response)\n",
    "    # Compare the responses and identify discrepancies\n"
   ]
  },
  {
   "cell_type": "code",
   "execution_count": null,
   "id": "R7P7YT-LS2BH",
   "metadata": {
    "colab": {
     "base_uri": "https://localhost:8080/",
     "height": 391
    },
    "id": "R7P7YT-LS2BH",
    "outputId": "a0357f7a-f256-4873-f2ef-78e38a2cb64a"
   },
   "outputs": [],
   "source": [
    "# Chat loop\n",
    "chat_history = []\n",
    "\n",
    "while True:\n",
    "    query = input('You: ')  # Prompt the user to input a question\n",
    "\n",
    "    if query.lower() == 'done':  # Check if the user wants to end the conversation\n",
    "        break\n",
    "\n",
    "    response = chat_qa({\"question\": query, \"chat_history\": chat_history})  # Retrieve response\n",
    "\n",
    "    chat_history.append({\"role\": \"user\", \"content\": query})  # Update chat history\n",
    "    chat_history.append({\"role\": \"assistant\", \"content\": response[\"answer\"]})\n",
    "\n",
    "    print('Assistant:', response[\"answer\"])  # Print the assistant's response"
   ]
  },
  {
   "cell_type": "code",
   "execution_count": null,
   "id": "iBPo5NyRRcx5",
   "metadata": {
    "id": "iBPo5NyRRcx5"
   },
   "outputs": [],
   "source": []
  },
  {
   "cell_type": "code",
   "execution_count": null,
   "id": "wGDwBszsRc14",
   "metadata": {
    "id": "wGDwBszsRc14"
   },
   "outputs": [],
   "source": []
  },
  {
   "cell_type": "code",
   "execution_count": null,
   "id": "YVsC_SAKRc5M",
   "metadata": {
    "id": "YVsC_SAKRc5M"
   },
   "outputs": [],
   "source": []
  },
  {
   "cell_type": "code",
   "execution_count": null,
   "id": "zBIVRjmuRc8i",
   "metadata": {
    "id": "zBIVRjmuRc8i"
   },
   "outputs": [],
   "source": []
  },
  {
   "cell_type": "code",
   "execution_count": null,
   "id": "at7391n8Rc_Y",
   "metadata": {
    "id": "at7391n8Rc_Y"
   },
   "outputs": [],
   "source": []
  },
  {
   "cell_type": "code",
   "execution_count": null,
   "id": "zanM1VdrRdDE",
   "metadata": {
    "id": "zanM1VdrRdDE"
   },
   "outputs": [],
   "source": []
  }
 ],
 "metadata": {
  "colab": {
   "provenance": []
  },
  "kernelspec": {
   "display_name": "Python 3 (ipykernel)",
   "language": "python",
   "name": "python3"
  },
  "language_info": {
   "codemirror_mode": {
    "name": "ipython",
    "version": 3
   },
   "file_extension": ".py",
   "mimetype": "text/x-python",
   "name": "python",
   "nbconvert_exporter": "python",
   "pygments_lexer": "ipython3",
   "version": "3.11.5"
  }
 },
 "nbformat": 4,
 "nbformat_minor": 5
}
